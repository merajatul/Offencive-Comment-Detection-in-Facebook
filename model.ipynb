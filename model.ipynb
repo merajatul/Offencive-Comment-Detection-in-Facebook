{
  "nbformat": 4,
  "nbformat_minor": 0,
  "metadata": {
    "colab": {
      "name": "bangla.ipynb",
      "provenance": [],
      "collapsed_sections": []
    },
    "kernelspec": {
      "name": "python2",
      "display_name": "Python 2"
    }
  },
  "cells": [
    {
      "cell_type": "code",
      "metadata": {
        "id": "ZIIiPE3VbHYK",
        "colab_type": "code",
        "outputId": "a5b5ae36-43f8-4d96-bd90-472c1342e598",
        "colab": {
          "base_uri": "https://localhost:8080/",
          "height": 122
        }
      },
      "source": [
        "!apt-get install -y -qq software-properties-common python-software-properties module-init-tools\n",
        "!add-apt-repository -y ppa:alessandro-strada/ppa 2>&1 > /dev/null\n",
        "!apt-get update -qq 2>&1 > /dev/null\n",
        "!apt-get -y install -qq google-drive-ocamlfuse fuse\n",
        "from google.colab import auth\n",
        "auth.authenticate_user()\n",
        "from oauth2client.client import GoogleCredentials\n",
        "creds = GoogleCredentials.get_application_default()\n",
        "import getpass\n",
        "!google-drive-ocamlfuse -headless -id={creds.client_id} -secret={creds.client_secret} < /dev/null 2>&1 | grep URL\n",
        "vcode = getpass.getpass()\n",
        "!echo {vcode} | google-drive-ocamlfuse -headless -id={creds.client_id} -secret={creds.client_secret}"
      ],
      "execution_count": 0,
      "outputs": [
        {
          "output_type": "stream",
          "text": [
            "E: Package 'python-software-properties' has no installation candidate\n",
            "Please, open the following URL in a web browser: https://accounts.google.com/o/oauth2/auth?client_id=32555940559.apps.googleusercontent.com&redirect_uri=urn%3Aietf%3Awg%3Aoauth%3A2.0%3Aoob&scope=https%3A%2F%2Fwww.googleapis.com%2Fauth%2Fdrive&response_type=code&access_type=offline&approval_prompt=force\n",
            "··········\n",
            "Please, open the following URL in a web browser: https://accounts.google.com/o/oauth2/auth?client_id=32555940559.apps.googleusercontent.com&redirect_uri=urn%3Aietf%3Awg%3Aoauth%3A2.0%3Aoob&scope=https%3A%2F%2Fwww.googleapis.com%2Fauth%2Fdrive&response_type=code&access_type=offline&approval_prompt=force\n",
            "Please enter the verification code: Access token retrieved correctly.\n"
          ],
          "name": "stdout"
        }
      ]
    },
    {
      "cell_type": "code",
      "metadata": {
        "id": "Z4JWWAZabZbR",
        "colab_type": "code",
        "colab": {}
      },
      "source": [
        "!mkdir -p drive\n",
        "!google-drive-ocamlfuse drive"
      ],
      "execution_count": 0,
      "outputs": []
    },
    {
      "cell_type": "code",
      "metadata": {
        "id": "a2U-mV-vbvE9",
        "colab_type": "code",
        "colab": {}
      },
      "source": [
        "import pandas as pd\n",
        "import numpy as np\n",
        "df = pd.read_csv(\"drive/data/bangla_comment_update.csv\");"
      ],
      "execution_count": 0,
      "outputs": []
    },
    {
      "cell_type": "code",
      "metadata": {
        "id": "GMjz7QXXb46l",
        "colab_type": "code",
        "outputId": "aca5e449-be01-43a8-d9e8-9ecb0e51e165",
        "colab": {
          "base_uri": "https://localhost:8080/",
          "height": 204
        }
      },
      "source": [
        "df.head(5)"
      ],
      "execution_count": 0,
      "outputs": [
        {
          "output_type": "execute_result",
          "data": {
            "text/html": [
              "<div>\n",
              "<style scoped>\n",
              "    .dataframe tbody tr th:only-of-type {\n",
              "        vertical-align: middle;\n",
              "    }\n",
              "\n",
              "    .dataframe tbody tr th {\n",
              "        vertical-align: top;\n",
              "    }\n",
              "\n",
              "    .dataframe thead th {\n",
              "        text-align: right;\n",
              "    }\n",
              "</style>\n",
              "<table border=\"1\" class=\"dataframe\">\n",
              "  <thead>\n",
              "    <tr style=\"text-align: right;\">\n",
              "      <th></th>\n",
              "      <th>label</th>\n",
              "      <th>comment</th>\n",
              "    </tr>\n",
              "  </thead>\n",
              "  <tbody>\n",
              "    <tr>\n",
              "      <th>0</th>\n",
              "      <td>positive</td>\n",
              "      <td>চিন্তার কোনো কারন নেই আর কয়েক বছর পর আমি তোমার...</td>\n",
              "    </tr>\n",
              "    <tr>\n",
              "      <th>1</th>\n",
              "      <td>positive</td>\n",
              "      <td>আশা করছি বিসিবি পরের টেস্ট এর জন্য তোমাকে ডাকব...</td>\n",
              "    </tr>\n",
              "    <tr>\n",
              "      <th>2</th>\n",
              "      <td>offensive</td>\n",
              "      <td>টেস্ট থেকে অবসর নিন দাদা,নয়তো টেস্টে খেলিয়ে আব...</td>\n",
              "    </tr>\n",
              "    <tr>\n",
              "      <th>3</th>\n",
              "      <td>offensive</td>\n",
              "      <td>হালা ডান্ডিয়া,,,ডেডা মাদারি,,তোর এই সব পালতু প...</td>\n",
              "    </tr>\n",
              "    <tr>\n",
              "      <th>4</th>\n",
              "      <td>positive</td>\n",
              "      <td>মা ফাতেমা যদি মুসলিম সমাজের মা হতে পারে..মা খা...</td>\n",
              "    </tr>\n",
              "  </tbody>\n",
              "</table>\n",
              "</div>"
            ],
            "text/plain": [
              "       label                                            comment\n",
              "0   positive  চিন্তার কোনো কারন নেই আর কয়েক বছর পর আমি তোমার...\n",
              "1   positive  আশা করছি বিসিবি পরের টেস্ট এর জন্য তোমাকে ডাকব...\n",
              "2  offensive  টেস্ট থেকে অবসর নিন দাদা,নয়তো টেস্টে খেলিয়ে আব...\n",
              "3  offensive  হালা ডান্ডিয়া,,,ডেডা মাদারি,,তোর এই সব পালতু প...\n",
              "4   positive  মা ফাতেমা যদি মুসলিম সমাজের মা হতে পারে..মা খা..."
            ]
          },
          "metadata": {
            "tags": []
          },
          "execution_count": 5
        }
      ]
    },
    {
      "cell_type": "code",
      "metadata": {
        "id": "_7NMyP6nb8i6",
        "colab_type": "code",
        "outputId": "cfe464d0-7d46-4321-cf34-2947551b489e",
        "colab": {
          "base_uri": "https://localhost:8080/",
          "height": 204
        }
      },
      "source": [
        "df.tail(5)"
      ],
      "execution_count": 0,
      "outputs": [
        {
          "output_type": "execute_result",
          "data": {
            "text/html": [
              "<div>\n",
              "<style scoped>\n",
              "    .dataframe tbody tr th:only-of-type {\n",
              "        vertical-align: middle;\n",
              "    }\n",
              "\n",
              "    .dataframe tbody tr th {\n",
              "        vertical-align: top;\n",
              "    }\n",
              "\n",
              "    .dataframe thead th {\n",
              "        text-align: right;\n",
              "    }\n",
              "</style>\n",
              "<table border=\"1\" class=\"dataframe\">\n",
              "  <thead>\n",
              "    <tr style=\"text-align: right;\">\n",
              "      <th></th>\n",
              "      <th>label</th>\n",
              "      <th>comment</th>\n",
              "    </tr>\n",
              "  </thead>\n",
              "  <tbody>\n",
              "    <tr>\n",
              "      <th>7345</th>\n",
              "      <td>NaN</td>\n",
              "      <td>Wow বারা খান</td>\n",
              "    </tr>\n",
              "    <tr>\n",
              "      <th>7346</th>\n",
              "      <td>NaN</td>\n",
              "      <td>আপু তুমার চেহারা দেখলেই মনে হয় এখনই তুমি বান্দ...</td>\n",
              "    </tr>\n",
              "    <tr>\n",
              "      <th>7347</th>\n",
              "      <td>NaN</td>\n",
              "      <td>অনেকদিনের ইচ্ছে ছিলো পেত্নি দেখবো! আজ ইচ্ছেটা ...</td>\n",
              "    </tr>\n",
              "    <tr>\n",
              "      <th>7348</th>\n",
              "      <td>NaN</td>\n",
              "      <td>পেটে কৃমি পোজ দিয়ে বারা খান কি বুঝাতে চায়? বান...</td>\n",
              "    </tr>\n",
              "    <tr>\n",
              "      <th>7349</th>\n",
              "      <td>NaN</td>\n",
              "      <td>এর জন্য ভাষাকে কি যেমনে মনে চায় সেই ভাবে কি Ed...</td>\n",
              "    </tr>\n",
              "  </tbody>\n",
              "</table>\n",
              "</div>"
            ],
            "text/plain": [
              "     label                                            comment\n",
              "7345   NaN                                      Wow বারা খান \n",
              "7346   NaN  আপু তুমার চেহারা দেখলেই মনে হয় এখনই তুমি বান্দ...\n",
              "7347   NaN  অনেকদিনের ইচ্ছে ছিলো পেত্নি দেখবো! আজ ইচ্ছেটা ...\n",
              "7348   NaN  পেটে কৃমি পোজ দিয়ে বারা খান কি বুঝাতে চায়? বান...\n",
              "7349   NaN  এর জন্য ভাষাকে কি যেমনে মনে চায় সেই ভাবে কি Ed..."
            ]
          },
          "metadata": {
            "tags": []
          },
          "execution_count": 6
        }
      ]
    },
    {
      "cell_type": "code",
      "metadata": {
        "id": "EzUvbcy5b_GW",
        "colab_type": "code",
        "outputId": "d4bb9be9-4a95-4172-f295-45d385461566",
        "colab": {
          "base_uri": "https://localhost:8080/",
          "height": 51
        }
      },
      "source": [
        "col = ['label', 'comment']\n",
        "df = df[col]\n",
        "df = df[pd.notnull(df['comment'])]\n",
        "print(df.loc[[7345]])\n",
        "#print(df.tail())\n"
      ],
      "execution_count": 0,
      "outputs": [
        {
          "output_type": "stream",
          "text": [
            "     label        comment\n",
            "7345   NaN  Wow বারা খান \n"
          ],
          "name": "stdout"
        }
      ]
    },
    {
      "cell_type": "code",
      "metadata": {
        "id": "caYO0VPScKmU",
        "colab_type": "code",
        "colab": {}
      },
      "source": [
        "from sklearn import model_selection, preprocessing\n",
        "from sklearn.model_selection import train_test_split\n",
        "from sklearn.feature_extraction.text import TfidfVectorizer\n",
        "from sklearn.feature_extraction.text import CountVectorizer\n",
        "\n",
        "#everything needs to be digitalized. Labels and Texts.\n",
        "\n",
        "#labels digitalized here in Y axis\n",
        "encoder = preprocessing.LabelEncoder()\n",
        "y = encoder.fit_transform(df['label'])\n",
        "\n",
        "\n",
        "#Posts digitalized here in x-axis\n",
        "countvec = CountVectorizer();\n",
        "X_data_full_tfidf = countvec.fit_transform(df['comment'])\n",
        "# tfidf = TfidfVectorizer(sublinear_tf=True, min_df=5, norm='l2', encoding='latin-1')\n",
        "# tfidf = TfidfVectorizer(sublinear_tf=True, min_df=5, norm='l2', encoding='latin-1', ngram_range=(1,2))\n",
        "# X_data_full_tfidf = tfidf.fit_transform(df['post'])\n",
        "\n",
        "\n",
        "X_train, X_test, y_train, y_test = train_test_split(X_data_full_tfidf, y, test_size=0.4 , random_state = 52)"
      ],
      "execution_count": 0,
      "outputs": []
    },
    {
      "cell_type": "code",
      "metadata": {
        "id": "_ysROYIGcRjm",
        "colab_type": "code",
        "outputId": "d144ec08-5717-4841-f078-9afc43bba160",
        "colab": {
          "base_uri": "https://localhost:8080/",
          "height": 85
        }
      },
      "source": [
        "#with a naive bayes\n",
        "from sklearn.naive_bayes import MultinomialNB\n",
        "from sklearn.svm import SVC\n",
        "\n",
        "\n",
        "clf = MultinomialNB().fit(X_train, y_train)\n",
        "print(\"naive bayes accuracy is\")\n",
        "\n",
        "#step 4: evaluate classifier\n",
        "\n",
        "print(clf.score(X_test, y_test))\n",
        "\n",
        "#with a support vector machine\n",
        "clf = SVC(kernel='linear')\n",
        "clf.fit(X_train, y_train)\n",
        "print(\"Support Vector with Linear Kernel Accuracy is:\")\n",
        "print(clf.score(X_test, y_test))"
      ],
      "execution_count": 0,
      "outputs": [
        {
          "output_type": "stream",
          "text": [
            "naive bayes accuracy is\n",
            "0.5295918367346939\n",
            "Support Vector with Linear Kernel Accuracy is:\n",
            "0.5295918367346939\n"
          ],
          "name": "stdout"
        }
      ]
    },
    {
      "cell_type": "code",
      "metadata": {
        "id": "XgPlofH9dCFE",
        "colab_type": "code",
        "colab": {}
      },
      "source": [
        ""
      ],
      "execution_count": 0,
      "outputs": []
    }
  ]
}